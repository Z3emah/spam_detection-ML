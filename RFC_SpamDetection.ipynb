{
 "cells": [
  {
   "cell_type": "markdown",
   "id": "218d5e2c-66ac-43cb-a72f-2d0049ed02dd",
   "metadata": {},
   "source": [
    "## Random Forest Classification"
   ]
  },
  {
   "cell_type": "code",
   "execution_count": 1,
   "id": "01d64dcc-477c-4664-b5ae-f8571dab29b6",
   "metadata": {},
   "outputs": [],
   "source": [
    "import numpy as np\n",
    "import pandas as pd\n",
    "import seaborn as sns\n",
    "import matplotlib.pyplot as plt\n",
    "from sklearn.model_selection import train_test_split, StratifiedKFold, RandomizedSearchCV\n",
    "from sklearn.ensemble import RandomForestClassifier\n",
    "from imblearn.over_sampling import SMOTE\n",
    "from sklearn.pipeline import Pipeline\n",
    "from imblearn.pipeline import Pipeline as ImbPipeline\n",
    "from sklearn.feature_extraction.text import TfidfVectorizer\n",
    "from sklearn.metrics import accuracy_score, precision_score, recall_score, f1_score, roc_auc_score, confusion_matrix, ConfusionMatrixDisplay, classification_report"
   ]
  },
  {
   "cell_type": "markdown",
   "id": "06f685ca-c8c2-45c8-b512-36eedcacb3b9",
   "metadata": {},
   "source": [
    "### Load and explore the data\n",
    "\n",
    "About the dataset\n",
    "\n",
    "the dataset contains a collection of SMS messages. It was manually extracted from the Grumbletext Web site, this is a UK forum in which cell phone users make public claims about SMS spam messages, most of them without reporting the very spam message received.\n",
    "The objective is to build a random forest classification model that will be able to tell spam messages from ham messages"
   ]
  },
  {
   "cell_type": "code",
   "execution_count": 2,
   "id": "f5f71873-d893-450f-956f-52cde397d6f3",
   "metadata": {},
   "outputs": [],
   "source": [
    "# Load the data\n",
    "df = pd.read_csv(r\"C:\\Users\\DELL\\Desktop\\ML\\Datasets\\spam\\SMSSpamCollection\", sep = \"\\t\", header = None, names = [\"Label\", \"Text\"])"
   ]
  },
  {
   "cell_type": "code",
   "execution_count": 3,
   "id": "7e2c4279-31e6-4e3a-9c34-06823c85fd75",
   "metadata": {},
   "outputs": [
    {
     "data": {
      "text/html": [
       "<div>\n",
       "<style scoped>\n",
       "    .dataframe tbody tr th:only-of-type {\n",
       "        vertical-align: middle;\n",
       "    }\n",
       "\n",
       "    .dataframe tbody tr th {\n",
       "        vertical-align: top;\n",
       "    }\n",
       "\n",
       "    .dataframe thead th {\n",
       "        text-align: right;\n",
       "    }\n",
       "</style>\n",
       "<table border=\"1\" class=\"dataframe\">\n",
       "  <thead>\n",
       "    <tr style=\"text-align: right;\">\n",
       "      <th></th>\n",
       "      <th>Label</th>\n",
       "      <th>Text</th>\n",
       "    </tr>\n",
       "  </thead>\n",
       "  <tbody>\n",
       "    <tr>\n",
       "      <th>0</th>\n",
       "      <td>ham</td>\n",
       "      <td>Go until jurong point, crazy.. Available only ...</td>\n",
       "    </tr>\n",
       "    <tr>\n",
       "      <th>1</th>\n",
       "      <td>ham</td>\n",
       "      <td>Ok lar... Joking wif u oni...</td>\n",
       "    </tr>\n",
       "    <tr>\n",
       "      <th>2</th>\n",
       "      <td>spam</td>\n",
       "      <td>Free entry in 2 a wkly comp to win FA Cup fina...</td>\n",
       "    </tr>\n",
       "    <tr>\n",
       "      <th>3</th>\n",
       "      <td>ham</td>\n",
       "      <td>U dun say so early hor... U c already then say...</td>\n",
       "    </tr>\n",
       "    <tr>\n",
       "      <th>4</th>\n",
       "      <td>ham</td>\n",
       "      <td>Nah I don't think he goes to usf, he lives aro...</td>\n",
       "    </tr>\n",
       "  </tbody>\n",
       "</table>\n",
       "</div>"
      ],
      "text/plain": [
       "  Label                                               Text\n",
       "0   ham  Go until jurong point, crazy.. Available only ...\n",
       "1   ham                      Ok lar... Joking wif u oni...\n",
       "2  spam  Free entry in 2 a wkly comp to win FA Cup fina...\n",
       "3   ham  U dun say so early hor... U c already then say...\n",
       "4   ham  Nah I don't think he goes to usf, he lives aro..."
      ]
     },
     "execution_count": 3,
     "metadata": {},
     "output_type": "execute_result"
    }
   ],
   "source": [
    "# inspect by displaying first few rows\n",
    "df.head()"
   ]
  },
  {
   "cell_type": "code",
   "execution_count": 4,
   "id": "9214582b-c92f-4b74-a517-f50e2f5b0949",
   "metadata": {},
   "outputs": [
    {
     "data": {
      "text/plain": [
       "(5572, 2)"
      ]
     },
     "execution_count": 4,
     "metadata": {},
     "output_type": "execute_result"
    }
   ],
   "source": [
    "# get the total number of columns and rows\n",
    "df.shape"
   ]
  },
  {
   "cell_type": "code",
   "execution_count": 5,
   "id": "8f1dd964-f147-490c-ba4e-8052028c6523",
   "metadata": {},
   "outputs": [
    {
     "name": "stdout",
     "output_type": "stream",
     "text": [
      "<class 'pandas.core.frame.DataFrame'>\n",
      "RangeIndex: 5572 entries, 0 to 5571\n",
      "Data columns (total 2 columns):\n",
      " #   Column  Non-Null Count  Dtype \n",
      "---  ------  --------------  ----- \n",
      " 0   Label   5572 non-null   object\n",
      " 1   Text    5572 non-null   object\n",
      "dtypes: object(2)\n",
      "memory usage: 87.2+ KB\n"
     ]
    }
   ],
   "source": [
    "# get an overview of the dataset\n",
    "df.info()"
   ]
  },
  {
   "cell_type": "code",
   "execution_count": 6,
   "id": "5828ffc4-e5be-4116-b7ca-a2161a5c4d5b",
   "metadata": {},
   "outputs": [
    {
     "data": {
      "text/plain": [
       "np.int64(403)"
      ]
     },
     "execution_count": 6,
     "metadata": {},
     "output_type": "execute_result"
    }
   ],
   "source": [
    "# check for duplicates\n",
    "df.duplicated().sum()"
   ]
  },
  {
   "cell_type": "code",
   "execution_count": 7,
   "id": "040b438c-cde9-44da-9c5e-aa7f186b9ef8",
   "metadata": {},
   "outputs": [],
   "source": [
    "# drop duplicates\n",
    "df = df.drop_duplicates()"
   ]
  },
  {
   "cell_type": "markdown",
   "id": "d1dfb43d-b9da-4551-9059-ed47a352aee7",
   "metadata": {},
   "source": [
    "#### Data split"
   ]
  },
  {
   "cell_type": "code",
   "execution_count": 8,
   "id": "c3feaaca-c670-4c27-b9d2-fe31d2d5f56b",
   "metadata": {},
   "outputs": [],
   "source": [
    "#seperate the dataset into independent and target variables\n",
    "X = df[\"Text\"]\n",
    "y = df[\"Label\"]\n",
    "\n",
    "# encode the labels\n",
    "y = y.map({\"ham\": 0, \"spam\": 1})"
   ]
  },
  {
   "cell_type": "code",
   "execution_count": 9,
   "id": "146cb1b9-6de0-4076-9cc2-4b2afaeb2157",
   "metadata": {},
   "outputs": [
    {
     "data": {
      "text/plain": [
       "Label\n",
       "0    4516\n",
       "1     653\n",
       "Name: count, dtype: int64"
      ]
     },
     "execution_count": 9,
     "metadata": {},
     "output_type": "execute_result"
    }
   ],
   "source": [
    "# check class imbalance\n",
    "y.value_counts()"
   ]
  },
  {
   "cell_type": "code",
   "execution_count": 10,
   "id": "dc01c83f-fc51-4b50-b4ed-ebd306df6599",
   "metadata": {},
   "outputs": [
    {
     "name": "stdout",
     "output_type": "stream",
     "text": [
      "(4135,) (1034,) (4135,) (1034,)\n"
     ]
    }
   ],
   "source": [
    "# data splitting into training and testing set\n",
    "X_train, X_test, y_train, y_test = train_test_split(X, y, test_size = 0.2, random_state = 42, stratify = y)\n",
    "print(X_train.shape, X_test.shape, y_train.shape, y_test.shape)"
   ]
  },
  {
   "cell_type": "code",
   "execution_count": 11,
   "id": "53402a84-1307-4d27-97a5-1833c646eb27",
   "metadata": {},
   "outputs": [
    {
     "data": {
      "text/plain": [
       "(5169,)"
      ]
     },
     "execution_count": 11,
     "metadata": {},
     "output_type": "execute_result"
    }
   ],
   "source": [
    "X.shape"
   ]
  },
  {
   "cell_type": "markdown",
   "id": "025e383c-aeea-411a-9c01-ebc16ef5bb73",
   "metadata": {},
   "source": [
    "### Convert text to numeric format\n",
    "TfidfVectorizer converts the texts into a large numerical matrix, each row representing each message and each column representing a unique word from the entire dataset's vocab.\n",
    "It calculates a score for each word using Term Frequency(TF) that is, how often the word appears, and Inverse Document Frequency (IDF) that is, how rare the word is across all messages in the entire dataset. the score is the product of TF and IDF\n",
    "\n",
    "### Handle class imbalance\n",
    "using SMOTE TO synthesize new instances of the minority class\n",
    "and including all in a pipeline to avoid data leakage"
   ]
  },
  {
   "cell_type": "code",
   "execution_count": 12,
   "id": "ef0546e5-f442-4320-b230-5b4317f098cc",
   "metadata": {},
   "outputs": [],
   "source": [
    "# vectorizer = TfidfVectorizer(stop_words = \"english\")\n",
    "\n",
    "# X = vectorizer.fit_transform(X)"
   ]
  },
  {
   "cell_type": "code",
   "execution_count": 13,
   "id": "18cfb9d7-b176-4a12-938c-4bce5a5c3629",
   "metadata": {},
   "outputs": [],
   "source": [
    "rf_pipeline = ImbPipeline([\n",
    "(\"vectorizer\", TfidfVectorizer(stop_words = \"english\")),\n",
    "(\"sampler\", SMOTE(random_state = 42)),\n",
    "(\"classifier\", RandomForestClassifier(random_state = 42))])"
   ]
  },
  {
   "cell_type": "markdown",
   "id": "b78338af-d58a-4db0-b74e-03e2ac983d00",
   "metadata": {},
   "source": [
    "### Hyperparameter tuning and model training\n",
    "Randomized search technique\n",
    "\n",
    "unlike grid search that creates every possible combination of hyperparameters, Randomized search samples a fixed number (n_iter) of random combinations from the specified parameter distribution. it is faster and more efficient than its counterpart"
   ]
  },
  {
   "cell_type": "code",
   "execution_count": 14,
   "id": "1f5f856e-8a69-45df-ae67-82881ba6c741",
   "metadata": {},
   "outputs": [],
   "source": [
    "# list of hyperparameters and their respective range of values (grid definition)\n",
    "param_distributions = {\n",
    "    \"sampler__k_neighbors\": [3, 5],\n",
    "    \"classifier__max_depth\": [3, 5, 10, None],  \n",
    "    \"classifier__min_samples_split\": [2, 5, 10],\n",
    "    \"classifier__min_samples_leaf\": [1, 2, 4, 8],\n",
    "    \"classifier__n_estimators\": [50, 100, 200] \n",
    "}"
   ]
  },
  {
   "cell_type": "markdown",
   "id": "af24baf4-4cde-41db-8a6b-59888cd42fa8",
   "metadata": {},
   "source": [
    "The model is trained and evaluated multiple times (cross validation) for a fixed number of combination of hyperparameters and the set of hyperparameters that results in the highest average-precision score is selected"
   ]
  },
  {
   "cell_type": "code",
   "execution_count": 15,
   "id": "e7cb5201-d188-4a98-ab69-f8547ceeb3d5",
   "metadata": {},
   "outputs": [
    {
     "name": "stdout",
     "output_type": "stream",
     "text": [
      "Starting randomized search\n",
      "\n",
      "Fitting 3 folds for each of 50 candidates, totalling 150 fits\n",
      "Randomized search complete\n",
      "\n",
      "best parameters are:\n",
      " {'sampler__k_neighbors': 3, 'classifier__n_estimators': 100, 'classifier__min_samples_split': 5, 'classifier__min_samples_leaf': 1, 'classifier__max_depth': None}\n",
      "best score: 0.9636773473463848\n"
     ]
    }
   ],
   "source": [
    "random_search = RandomizedSearchCV(estimator = rf_pipeline, param_distributions = param_distributions, scoring = \"average_precision\", n_iter = 50, cv = StratifiedKFold(n_splits=3), n_jobs = -1, verbose = 2, random_state = 42)\n",
    "print(\"Starting randomized search\\n\")\n",
    "random_search.fit(X_train, y_train)\n",
    "print(\"Randomized search complete\\n\")\n",
    "print(\"best parameters are:\\n\", random_search.best_params_)\n",
    "print(\"best score:\", random_search.best_score_)"
   ]
  },
  {
   "cell_type": "markdown",
   "id": "a1fb6c75-3c43-45ac-a429-da1caea45336",
   "metadata": {},
   "source": [
    "The final model trained using the best hyperparameters on the entire training set is stored in the grid_search.best_estimator attribute, this is the model used for making predictions and its overall performance is evaluated"
   ]
  },
  {
   "cell_type": "code",
   "execution_count": 16,
   "id": "b51bfd2f-c21d-4d06-a7fb-72983865c0ac",
   "metadata": {},
   "outputs": [],
   "source": [
    "best_model = random_search.best_estimator_"
   ]
  },
  {
   "cell_type": "markdown",
   "id": "3d390342-050b-4eea-9acd-503f663c0fbb",
   "metadata": {},
   "source": [
    "### Model Testing"
   ]
  },
  {
   "cell_type": "code",
   "execution_count": 17,
   "id": "8eb43640-6dd2-4152-ad99-41f83e99e9d0",
   "metadata": {},
   "outputs": [],
   "source": [
    "proba = best_model.predict_proba(X_test)[:, 1]\n",
    "new_threshold = 0.4\n",
    "y_pred = (proba >= new_threshold)"
   ]
  },
  {
   "cell_type": "markdown",
   "id": "99ec55e3-161e-4243-9c3d-16d458f673ef",
   "metadata": {},
   "source": [
    "### Model Evaluation¶"
   ]
  },
  {
   "cell_type": "code",
   "execution_count": 18,
   "id": "b58ec208-241e-47d5-991c-6832bae5129e",
   "metadata": {},
   "outputs": [
    {
     "name": "stdout",
     "output_type": "stream",
     "text": [
      "accuracy: 0.98\n"
     ]
    }
   ],
   "source": [
    "accuracy = accuracy_score(y_test, y_pred)\n",
    "\n",
    "print(f\"accuracy: {accuracy:.2f}\")"
   ]
  },
  {
   "cell_type": "code",
   "execution_count": 19,
   "id": "748fe7ed-3759-4859-8a8c-0e214b50af5a",
   "metadata": {},
   "outputs": [
    {
     "name": "stdout",
     "output_type": "stream",
     "text": [
      "precision: 0.97\n"
     ]
    }
   ],
   "source": [
    "precision = precision_score(y_test, y_pred)\n",
    "\n",
    "print(f\"precision: {precision:.2f}\")"
   ]
  },
  {
   "cell_type": "code",
   "execution_count": 20,
   "id": "4d3c8421-4d99-4a80-ba13-a7e5ba5c2af5",
   "metadata": {},
   "outputs": [
    {
     "name": "stdout",
     "output_type": "stream",
     "text": [
      "recall: 0.89\n"
     ]
    }
   ],
   "source": [
    "recall = recall_score(y_test, y_pred)\n",
    "\n",
    "print(f\"recall: {recall:.2f}\")"
   ]
  },
  {
   "cell_type": "code",
   "execution_count": 21,
   "id": "0dd63f31-df8b-4f4c-9591-c9b9f1d9f626",
   "metadata": {},
   "outputs": [
    {
     "name": "stdout",
     "output_type": "stream",
     "text": [
      "f1_score: 0.93\n"
     ]
    }
   ],
   "source": [
    "f1_score = f1_score(y_test, y_pred)\n",
    "\n",
    "print(f\"f1_score: {f1_score:.2f}\")"
   ]
  },
  {
   "cell_type": "code",
   "execution_count": 22,
   "id": "3fe1dd12-6123-4fca-96fb-2aab81bae3a8",
   "metadata": {},
   "outputs": [
    {
     "name": "stdout",
     "output_type": "stream",
     "text": [
      "roc_auc_score: 0.94\n"
     ]
    }
   ],
   "source": [
    "roc_auc_score = roc_auc_score(y_test, y_pred)\n",
    "\n",
    "print(f\"roc_auc_score: {roc_auc_score:.2f}\")"
   ]
  },
  {
   "cell_type": "markdown",
   "id": "e8cda459-c09e-42a5-a9a2-f89ccd8fbc43",
   "metadata": {},
   "source": [
    "#### confusion matrix"
   ]
  },
  {
   "cell_type": "code",
   "execution_count": 23,
   "id": "f7e09a5a-587c-4fd8-b1e5-45d1ddcb722f",
   "metadata": {},
   "outputs": [
    {
     "data": {
      "text/plain": [
       "<sklearn.metrics._plot.confusion_matrix.ConfusionMatrixDisplay at 0x1a4d4b72ba0>"
      ]
     },
     "execution_count": 23,
     "metadata": {},
     "output_type": "execute_result"
    },
    {
     "data": {
      "image/png": "[encoded data removed]",
      "text/plain": [
       "<Figure size 640x480 with 2 Axes>"
      ]
     },
     "metadata": {},
     "output_type": "display_data"
    }
   ],
   "source": [
    "cm = confusion_matrix(y_test, y_pred)\n",
    "matrix = ConfusionMatrixDisplay(cm, display_labels = best_model.classes_)\n",
    "matrix.plot()"
   ]
  },
  {
   "cell_type": "markdown",
   "id": "59ac6291-a763-430c-b9ca-526dc8230c6d",
   "metadata": {},
   "source": [
    "#### classification report"
   ]
  },
  {
   "cell_type": "code",
   "execution_count": 30,
   "id": "b3d52966-d1de-4e98-b2d0-cd360667693f",
   "metadata": {},
   "outputs": [],
   "source": [
    "cr = classification_report(y_test, y_pred, output_dict = True)"
   ]
  },
  {
   "cell_type": "code",
   "execution_count": 31,
   "id": "04edbabb-809d-403d-81bf-be82ba4b7687",
   "metadata": {},
   "outputs": [
    {
     "data": {
      "text/plain": [
       "Text(0.5, 1.0, 'Classification Report Heatmap')"
      ]
     },
     "execution_count": 31,
     "metadata": {},
     "output_type": "execute_result"
    },
    {
     "data": {
      "image/png": "[encoded data removed]",
      "text/plain": [
       "<Figure size 640x480 with 2 Axes>"
      ]
     },
     "metadata": {},
     "output_type": "display_data"
    }
   ],
   "source": [
    "# to get a clearer picture\n",
    "cr = classification_report(y_test, y_pred, output_dict = True)\n",
    "cr_df = pd.DataFrame(cr).transpose()\n",
    "sns.heatmap(cr_df.iloc[:-3, :].drop(\"support\", axis = 1), annot = True, fmt = \".2f\", cmap = \"magma_r\")\n",
    "plt.title(\"Classification Report Heatmap\")"
   ]
  },
  {
   "cell_type": "code",
   "execution_count": 26,
   "id": "8a329489-dbb0-42f4-b8ef-f4960dade94d",
   "metadata": {},
   "outputs": [],
   "source": [
    "import streamlit as st\n",
    "import joblib"
   ]
  },
  {
   "cell_type": "code",
   "execution_count": 27,
   "id": "6e1459df-22e5-40a7-b0c5-92073abdf548",
   "metadata": {},
   "outputs": [
    {
     "data": {
      "text/plain": [
       "['best_pipeline.pkl']"
      ]
     },
     "execution_count": 27,
     "metadata": {},
     "output_type": "execute_result"
    }
   ],
   "source": [
    "joblib.dump(best_model, \"best_pipeline.pkl\")"
   ]
  },
  {
   "cell_type": "code",
   "execution_count": 28,
   "id": "d135a124-9968-4383-887e-923caf8604c3",
   "metadata": {},
   "outputs": [],
   "source": [
    "import json"
   ]
  },
  {
   "cell_type": "code",
   "execution_count": 32,
   "id": "9576a949-bfa6-4dbb-b400-47c791fd520a",
   "metadata": {},
   "outputs": [],
   "source": [
    "with open(\"model_metrics.json\", \"w\") as f:\n",
    "    json.dump(cr, f)"
   ]
  },
  {
   "cell_type": "code",
   "execution_count": 33,
   "id": "a107f755-c348-4c4f-9be6-0d63e9e5fc5b",
   "metadata": {},
   "outputs": [
    {
     "name": "stdout",
     "output_type": "stream",
     "text": [
      "Requirement already satisfied: streamlit in c:\\programdata\\anaconda3\\lib\\site-packages (1.45.1)\n",
      "Collecting streamlit\n",
      "  Downloading streamlit-1.49.1-py3-none-any.whl.metadata (9.5 kB)\n",
      "Requirement already satisfied: altair!=5.4.0,!=5.4.1,<6,>=4.0 in c:\\programdata\\anaconda3\\lib\\site-packages (from streamlit) (5.5.0)\n",
      "Requirement already satisfied: blinker<2,>=1.5.0 in c:\\programdata\\anaconda3\\lib\\site-packages (from streamlit) (1.9.0)\n",
      "Requirement already satisfied: cachetools<7,>=4.0 in c:\\programdata\\anaconda3\\lib\\site-packages (from streamlit) (5.5.1)\n",
      "Requirement already satisfied: click<9,>=7.0 in c:\\programdata\\anaconda3\\lib\\site-packages (from streamlit) (8.1.8)\n",
      "Requirement already satisfied: numpy<3,>=1.23 in c:\\programdata\\anaconda3\\lib\\site-packages (from streamlit) (2.1.3)\n",
      "Requirement already satisfied: packaging<26,>=20 in c:\\programdata\\anaconda3\\lib\\site-packages (from streamlit) (24.2)\n",
      "Requirement already satisfied: pandas<3,>=1.4.0 in c:\\programdata\\anaconda3\\lib\\site-packages (from streamlit) (2.2.3)\n",
      "Requirement already satisfied: pillow<12,>=7.1.0 in c:\\programdata\\anaconda3\\lib\\site-packages (from streamlit) (11.1.0)\n",
      "Requirement already satisfied: protobuf<7,>=3.20 in c:\\programdata\\anaconda3\\lib\\site-packages (from streamlit) (5.29.3)\n",
      "Requirement already satisfied: pyarrow>=7.0 in c:\\programdata\\anaconda3\\lib\\site-packages (from streamlit) (19.0.0)\n",
      "Requirement already satisfied: requests<3,>=2.27 in c:\\programdata\\anaconda3\\lib\\site-packages (from streamlit) (2.32.3)\n",
      "Requirement already satisfied: tenacity<10,>=8.1.0 in c:\\programdata\\anaconda3\\lib\\site-packages (from streamlit) (9.0.0)\n",
      "Requirement already satisfied: toml<2,>=0.10.1 in c:\\programdata\\anaconda3\\lib\\site-packages (from streamlit) (0.10.2)\n",
      "Requirement already satisfied: typing-extensions<5,>=4.4.0 in c:\\programdata\\anaconda3\\lib\\site-packages (from streamlit) (4.12.2)\n",
      "Requirement already satisfied: watchdog<7,>=2.1.5 in c:\\programdata\\anaconda3\\lib\\site-packages (from streamlit) (4.0.2)\n",
      "Requirement already satisfied: gitpython!=3.1.19,<4,>=3.0.7 in c:\\programdata\\anaconda3\\lib\\site-packages (from streamlit) (3.1.43)\n",
      "Collecting pydeck<1,>=0.8.0b4 (from streamlit)\n",
      "  Downloading pydeck-0.9.1-py2.py3-none-any.whl.metadata (4.1 kB)\n",
      "Requirement already satisfied: tornado!=6.5.0,<7,>=6.0.3 in c:\\programdata\\anaconda3\\lib\\site-packages (from streamlit) (6.5.1)\n",
      "Requirement already satisfied: jinja2 in c:\\programdata\\anaconda3\\lib\\site-packages (from altair!=5.4.0,!=5.4.1,<6,>=4.0->streamlit) (3.1.6)\n",
      "Requirement already satisfied: jsonschema>=3.0 in c:\\programdata\\anaconda3\\lib\\site-packages (from altair!=5.4.0,!=5.4.1,<6,>=4.0->streamlit) (4.23.0)\n",
      "Requirement already satisfied: narwhals>=1.14.2 in c:\\programdata\\anaconda3\\lib\\site-packages (from altair!=5.4.0,!=5.4.1,<6,>=4.0->streamlit) (1.31.0)\n",
      "Requirement already satisfied: colorama in c:\\programdata\\anaconda3\\lib\\site-packages (from click<9,>=7.0->streamlit) (0.4.6)\n",
      "Requirement already satisfied: gitdb<5,>=4.0.1 in c:\\programdata\\anaconda3\\lib\\site-packages (from gitpython!=3.1.19,<4,>=3.0.7->streamlit) (4.0.7)\n",
      "Requirement already satisfied: smmap<5,>=3.0.1 in c:\\programdata\\anaconda3\\lib\\site-packages (from gitdb<5,>=4.0.1->gitpython!=3.1.19,<4,>=3.0.7->streamlit) (4.0.0)\n",
      "Requirement already satisfied: python-dateutil>=2.8.2 in c:\\programdata\\anaconda3\\lib\\site-packages (from pandas<3,>=1.4.0->streamlit) (2.9.0.post0)\n",
      "Requirement already satisfied: pytz>=2020.1 in c:\\programdata\\anaconda3\\lib\\site-packages (from pandas<3,>=1.4.0->streamlit) (2024.1)\n",
      "Requirement already satisfied: tzdata>=2022.7 in c:\\programdata\\anaconda3\\lib\\site-packages (from pandas<3,>=1.4.0->streamlit) (2025.2)\n",
      "Requirement already satisfied: charset-normalizer<4,>=2 in c:\\programdata\\anaconda3\\lib\\site-packages (from requests<3,>=2.27->streamlit) (3.3.2)\n",
      "Requirement already satisfied: idna<4,>=2.5 in c:\\programdata\\anaconda3\\lib\\site-packages (from requests<3,>=2.27->streamlit) (3.7)\n",
      "Requirement already satisfied: urllib3<3,>=1.21.1 in c:\\programdata\\anaconda3\\lib\\site-packages (from requests<3,>=2.27->streamlit) (2.3.0)\n",
      "Requirement already satisfied: certifi>=2017.4.17 in c:\\programdata\\anaconda3\\lib\\site-packages (from requests<3,>=2.27->streamlit) (2025.4.26)\n",
      "Requirement already satisfied: MarkupSafe>=2.0 in c:\\programdata\\anaconda3\\lib\\site-packages (from jinja2->altair!=5.4.0,!=5.4.1,<6,>=4.0->streamlit) (3.0.2)\n",
      "Requirement already satisfied: attrs>=22.2.0 in c:\\programdata\\anaconda3\\lib\\site-packages (from jsonschema>=3.0->altair!=5.4.0,!=5.4.1,<6,>=4.0->streamlit) (24.3.0)\n",
      "Requirement already satisfied: jsonschema-specifications>=2023.03.6 in c:\\programdata\\anaconda3\\lib\\site-packages (from jsonschema>=3.0->altair!=5.4.0,!=5.4.1,<6,>=4.0->streamlit) (2023.7.1)\n",
      "Requirement already satisfied: referencing>=0.28.4 in c:\\programdata\\anaconda3\\lib\\site-packages (from jsonschema>=3.0->altair!=5.4.0,!=5.4.1,<6,>=4.0->streamlit) (0.30.2)\n",
      "Requirement already satisfied: rpds-py>=0.7.1 in c:\\programdata\\anaconda3\\lib\\site-packages (from jsonschema>=3.0->altair!=5.4.0,!=5.4.1,<6,>=4.0->streamlit) (0.22.3)\n",
      "Requirement already satisfied: six>=1.5 in c:\\programdata\\anaconda3\\lib\\site-packages (from python-dateutil>=2.8.2->pandas<3,>=1.4.0->streamlit) (1.17.0)\n",
      "Downloading streamlit-1.49.1-py3-none-any.whl (10.0 MB)\n",
      "   ---------------------------------------- 0.0/10.0 MB ? eta -:--:--\n",
      "   ---------------------------------------- 0.0/10.0 MB ? eta -:--:--\n",
      "   - -------------------------------------- 0.3/10.0 MB ? eta -:--:--\n",
      "   ---- ----------------------------------- 1.0/10.0 MB 2.7 MB/s eta 0:00:04\n",
      "   ------ --------------------------------- 1.6/10.0 MB 2.6 MB/s eta 0:00:04\n",
      "   ------- -------------------------------- 1.8/10.0 MB 2.9 MB/s eta 0:00:03\n",
      "   ---------- ----------------------------- 2.6/10.0 MB 2.6 MB/s eta 0:00:03\n",
      "   ------------- -------------------------- 3.4/10.0 MB 2.8 MB/s eta 0:00:03\n",
      "   ---------------- ----------------------- 4.2/10.0 MB 2.9 MB/s eta 0:00:03\n",
      "   ------------------- -------------------- 5.0/10.0 MB 3.1 MB/s eta 0:00:02\n",
      "   ---------------------- ----------------- 5.8/10.0 MB 3.1 MB/s eta 0:00:02\n",
      "   ------------------------- -------------- 6.3/10.0 MB 3.0 MB/s eta 0:00:02\n",
      "   ---------------------------- ----------- 7.1/10.0 MB 3.1 MB/s eta 0:00:01\n",
      "   ------------------------------ --------- 7.6/10.0 MB 3.0 MB/s eta 0:00:01\n",
      "   --------------------------------- ------ 8.4/10.0 MB 3.1 MB/s eta 0:00:01\n",
      "   ------------------------------------ --- 9.2/10.0 MB 3.2 MB/s eta 0:00:01\n",
      "   ---------------------------------------  10.0/10.0 MB 3.2 MB/s eta 0:00:01\n",
      "   ---------------------------------------- 10.0/10.0 MB 3.1 MB/s eta 0:00:00\n",
      "Downloading pydeck-0.9.1-py2.py3-none-any.whl (6.9 MB)\n",
      "   ---------------------------------------- 0.0/6.9 MB ? eta -:--:--\n",
      "   ---- ----------------------------------- 0.8/6.9 MB 4.4 MB/s eta 0:00:02\n",
      "   --------- ------------------------------ 1.6/6.9 MB 4.1 MB/s eta 0:00:02\n",
      "   ------------- -------------------------- 2.4/6.9 MB 3.8 MB/s eta 0:00:02\n",
      "   ------------------ --------------------- 3.1/6.9 MB 4.0 MB/s eta 0:00:01\n",
      "   --------------------- ------------------ 3.7/6.9 MB 3.6 MB/s eta 0:00:01\n",
      "   ------------------------ --------------- 4.2/6.9 MB 3.5 MB/s eta 0:00:01\n",
      "   ------------------------------ --------- 5.2/6.9 MB 3.6 MB/s eta 0:00:01\n",
      "   --------------------------------- ------ 5.8/6.9 MB 3.4 MB/s eta 0:00:01\n",
      "   ------------------------------------ --- 6.3/6.9 MB 3.4 MB/s eta 0:00:01\n",
      "   ---------------------------------------- 6.9/6.9 MB 3.3 MB/s eta 0:00:00\n",
      "Installing collected packages: pydeck, streamlit\n",
      "\n",
      "   ---------------------------------------- 0/2 [pydeck]\n",
      "   ---------------------------------------- 0/2 [pydeck]\n",
      "  Attempting uninstall: streamlit\n",
      "   ---------------------------------------- 0/2 [pydeck]\n",
      "    Found existing installation: streamlit 1.45.1\n",
      "   ---------------------------------------- 0/2 [pydeck]\n",
      "   -------------------- ------------------- 1/2 [streamlit]\n",
      "    Uninstalling streamlit-1.45.1:\n",
      "   -------------------- ------------------- 1/2 [streamlit]\n",
      "   -------------------- ------------------- 1/2 [streamlit]\n",
      "      Successfully uninstalled streamlit-1.45.1\n",
      "   -------------------- ------------------- 1/2 [streamlit]\n",
      "   -------------------- ------------------- 1/2 [streamlit]\n",
      "   -------------------- ------------------- 1/2 [streamlit]\n",
      "   -------------------- ------------------- 1/2 [streamlit]\n",
      "   -------------------- ------------------- 1/2 [streamlit]\n",
      "   -------------------- ------------------- 1/2 [streamlit]\n",
      "   -------------------- ------------------- 1/2 [streamlit]\n",
      "   -------------------- ------------------- 1/2 [streamlit]\n",
      "   -------------------- ------------------- 1/2 [streamlit]\n",
      "   -------------------- ------------------- 1/2 [streamlit]\n",
      "   -------------------- ------------------- 1/2 [streamlit]\n",
      "   -------------------- ------------------- 1/2 [streamlit]\n",
      "   -------------------- ------------------- 1/2 [streamlit]\n",
      "   -------------------- ------------------- 1/2 [streamlit]\n",
      "   -------------------- ------------------- 1/2 [streamlit]\n",
      "   -------------------- ------------------- 1/2 [streamlit]\n",
      "   -------------------- ------------------- 1/2 [streamlit]\n",
      "   -------------------- ------------------- 1/2 [streamlit]\n",
      "   -------------------- ------------------- 1/2 [streamlit]\n",
      "   -------------------- ------------------- 1/2 [streamlit]\n",
      "   -------------------- ------------------- 1/2 [streamlit]\n",
      "   -------------------- ------------------- 1/2 [streamlit]\n",
      "   -------------------- ------------------- 1/2 [streamlit]\n",
      "   -------------------- ------------------- 1/2 [streamlit]\n",
      "   -------------------- ------------------- 1/2 [streamlit]\n",
      "   -------------------- ------------------- 1/2 [streamlit]\n",
      "   -------------------- ------------------- 1/2 [streamlit]\n",
      "   -------------------- ------------------- 1/2 [streamlit]\n",
      "   -------------------- ------------------- 1/2 [streamlit]\n",
      "   -------------------- ------------------- 1/2 [streamlit]\n",
      "   -------------------- ------------------- 1/2 [streamlit]\n",
      "   -------------------- ------------------- 1/2 [streamlit]\n",
      "   -------------------- ------------------- 1/2 [streamlit]\n",
      "   -------------------- ------------------- 1/2 [streamlit]\n",
      "   ---------------------------------------- 2/2 [streamlit]\n",
      "\n",
      "Successfully installed pydeck-0.9.1 streamlit-1.49.1\n",
      "Note: you may need to restart the kernel to use updated packages.\n"
     ]
    },
    {
     "name": "stderr",
     "output_type": "stream",
     "text": [
      "  WARNING: Failed to remove contents in a temporary directory 'C:\\Users\\DELL\\AppData\\Local\\Temp\\pip-uninstall-tzab36lw'.\n",
      "  You can safely remove it manually.\n"
     ]
    }
   ],
   "source": [
    "pip install --upgrade streamlit"
   ]
  }
 ],
 "metadata": {
  "kernelspec": {
   "display_name": "Python 3 (ipykernel)",
   "language": "python",
   "name": "python3"
  },
  "language_info": {
   "codemirror_mode": {
    "name": "ipython",
    "version": 3
   },
   "file_extension": ".py",
   "mimetype": "text/x-python",
   "name": "python",
   "nbconvert_exporter": "python",
   "pygments_lexer": "ipython3",
   "version": "3.13.5"
  }
 },
 "nbformat": 4,
 "nbformat_minor": 5
}
